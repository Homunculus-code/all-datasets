{
  "nbformat": 4,
  "nbformat_minor": 0,
  "metadata": {
    "colab": {
      "provenance": [],
      "gpuType": "T4",
      "authorship_tag": "ABX9TyOsXd31gfS76Ewkpsx2CKHX",
      "include_colab_link": true
    },
    "kernelspec": {
      "name": "python3",
      "display_name": "Python 3"
    },
    "language_info": {
      "name": "python"
    },
    "accelerator": "GPU"
  },
  "cells": [
    {
      "cell_type": "markdown",
      "metadata": {
        "id": "view-in-github",
        "colab_type": "text"
      },
      "source": [
        "<a href=\"https://colab.research.google.com/github/Homunculus-code/all-datasets/blob/main/brainmassregression.ipynb\" target=\"_parent\"><img src=\"https://colab.research.google.com/assets/colab-badge.svg\" alt=\"Open In Colab\"/></a>"
      ]
    },
    {
      "cell_type": "code",
      "execution_count": 1,
      "metadata": {
        "id": "nPCfnVrPOZFE"
      },
      "outputs": [],
      "source": [
        "#insecta, mammalia\n",
        "import pandas as pd\n",
        "df = pd.read_csv(\"https://raw.githubusercontent.com/Homunculus-code/all-datasets/main/man.csv\")\n",
        "df_copy = df\n",
        "df_test = pd.read_csv(\"https://raw.githubusercontent.com/Homunculus-code/all-datasets/main/test_data.csv\")"
      ]
    },
    {
      "cell_type": "code",
      "source": [
        "genus = df[\"genus\"].unique()"
      ],
      "metadata": {
        "id": "VhGD265WjQ6V"
      },
      "execution_count": 2,
      "outputs": []
    },
    {
      "cell_type": "code",
      "source": [
        "df[\"class\"].value_counts()"
      ],
      "metadata": {
        "colab": {
          "base_uri": "https://localhost:8080/"
        },
        "id": "TiI1By4yNJ_d",
        "outputId": "25983863-2530-49c4-c3f4-4d8d85908667"
      },
      "execution_count": 3,
      "outputs": [
        {
          "output_type": "execute_result",
          "data": {
            "text/plain": [
              "Mammalia    708\n",
              "Insecta     340\n",
              "Aves         98\n",
              "Reptilia     47\n",
              "Name: class, dtype: int64"
            ]
          },
          "metadata": {},
          "execution_count": 3
        }
      ]
    },
    {
      "cell_type": "code",
      "source": [
        "df_test[\"class\"].value_counts()"
      ],
      "metadata": {
        "colab": {
          "base_uri": "https://localhost:8080/"
        },
        "id": "ODUewDltcAG1",
        "outputId": "4b9d025d-9fd9-49fe-ce32-4f6b0b0b3095"
      },
      "execution_count": 4,
      "outputs": [
        {
          "output_type": "execute_result",
          "data": {
            "text/plain": [
              "Mammalia      348\n",
              "Aves          134\n",
              "Reptilia       48\n",
              "Insecta         6\n",
              "Clitellata      2\n",
              "Gastropoda      2\n",
              "Amphibia        2\n",
              "Name: class, dtype: int64"
            ]
          },
          "metadata": {},
          "execution_count": 4
        }
      ]
    },
    {
      "cell_type": "markdown",
      "source": [
        "# Preprocessing"
      ],
      "metadata": {
        "id": "O2Za65I3KO4B"
      }
    },
    {
      "cell_type": "code",
      "source": [
        "removeList= []\n",
        "for i, lol in enumerate(df['observationID']):\n",
        "  if (i == len(df) - 1):\n",
        "    break\n",
        "  elif (i == 0):\n",
        "    continue\n",
        "  elif ((((df['observationID'])[i] != (df['observationID'])[i + 1])) & (((df['observationID'])[i - 1] != (df['observationID'])[i]))):\n",
        "    removeList.append(i)"
      ],
      "metadata": {
        "id": "HCvJlf7tEfBK"
      },
      "execution_count": 6,
      "outputs": []
    },
    {
      "cell_type": "code",
      "source": [
        "removeList2= []\n",
        "for i, lol in enumerate(df_test['observationID']):\n",
        "  if (i == len(df_test) - 1):\n",
        "    break\n",
        "  elif (i == 0):\n",
        "    continue\n",
        "  elif ((((df_test['observationID'])[i] != (df_test['observationID'])[i + 1])) & (((df_test['observationID'])[i - 1] != (df_test['observationID'])[i]))):\n",
        "    removeList2.append(i)"
      ],
      "metadata": {
        "id": "F90O9yVNgSfj"
      },
      "execution_count": 7,
      "outputs": []
    },
    {
      "cell_type": "code",
      "source": [
        "len(removeList)"
      ],
      "metadata": {
        "id": "g8YOcm2UN9qm",
        "colab": {
          "base_uri": "https://localhost:8080/"
        },
        "outputId": "998ace07-cbe2-4f6b-de11-43657095a80c"
      },
      "execution_count": 8,
      "outputs": [
        {
          "output_type": "execute_result",
          "data": {
            "text/plain": [
              "79"
            ]
          },
          "metadata": {},
          "execution_count": 8
        }
      ]
    },
    {
      "cell_type": "code",
      "source": [
        "obsList = []\n",
        "for i, num in enumerate(removeList):\n",
        "  obsList.append((df['observationID'])[num])"
      ],
      "metadata": {
        "id": "y1DN4E5gLqP9"
      },
      "execution_count": 9,
      "outputs": []
    },
    {
      "cell_type": "code",
      "source": [
        "obsList2 = []\n",
        "for i, num in enumerate(removeList2):\n",
        "  obsList2.append((df_test['observationID'])[num])"
      ],
      "metadata": {
        "id": "Xdgxf0xZga3X"
      },
      "execution_count": 10,
      "outputs": []
    },
    {
      "cell_type": "code",
      "source": [
        "for i, num in enumerate(obsList):\n",
        "  df = df[df['observationID'] != num]"
      ],
      "metadata": {
        "id": "KJiic5YeOsgE"
      },
      "execution_count": 141,
      "outputs": []
    },
    {
      "cell_type": "code",
      "source": [
        "for i, num in enumerate(obsList):\n",
        "  df = df[df['observationID'] != num]"
      ],
      "metadata": {
        "id": "BPaZpXofgjBD"
      },
      "execution_count": 142,
      "outputs": []
    },
    {
      "cell_type": "code",
      "source": [
        "for i, num in enumerate(obsList2):\n",
        "  df_test = df_test[df_test['observationID'] != num]"
      ],
      "metadata": {
        "id": "2-P6-G8TsZL4"
      },
      "execution_count": 143,
      "outputs": []
    },
    {
      "cell_type": "code",
      "source": [
        "for i, dff in df_test.iterrows():\n",
        "  obs = dff[\"observationID\"]\n",
        "  gen = dff[\"genus\"]\n",
        "  if gen not in genus:\n",
        "    df_test = df_test[df_test[\"observationID\"] != obs]"
      ],
      "metadata": {
        "id": "358zV_p4hc4n"
      },
      "execution_count": 14,
      "outputs": []
    },
    {
      "cell_type": "code",
      "source": [
        "common = list(set(df[\"genus\"].unique()).intersection(df_test[\"genus\"].unique()))"
      ],
      "metadata": {
        "id": "bfnyCcE_seZk"
      },
      "execution_count": 17,
      "outputs": []
    },
    {
      "cell_type": "code",
      "source": [
        "df_test_copy = df_test"
      ],
      "metadata": {
        "id": "j0TAzxcQPwhF"
      },
      "execution_count": 18,
      "outputs": []
    },
    {
      "cell_type": "code",
      "source": [
        "df_test = df_test.drop([\"metadataComment\", \"specificEpithet\", \"sex\", \"temperature\", \"respiratoryQuotient\", \"sampleSizeValue\", \"comments\", \"reference\", \"inTextReference\", \"publicationYear\", \"fullReference\", \"measurementMethod\", \"metadataComment\"], axis = 1)\n",
        "df = df.drop([\"metadataComment\", \"specificEpithet\", \"sex\", \"temperature\", \"respiratoryQuotient\", \"sampleSizeValue\", \"comments\", \"reference\", \"inTextReference\", \"publicationYear\", \"fullReference\", \"measurementMethod\", \"metadataComment\"], axis = 1)"
      ],
      "metadata": {
        "id": "Dnb3WE5VTpNr"
      },
      "execution_count": 21,
      "outputs": []
    },
    {
      "cell_type": "code",
      "source": [
        "dfBodyMass = df[df[\"measurementType\"] == \"body mass\"]"
      ],
      "metadata": {
        "id": "8jMK6F6lPWLC"
      },
      "execution_count": 25,
      "outputs": []
    },
    {
      "cell_type": "code",
      "source": [
        "dfBrainSize = df[df[\"measurementType\"] == \"brain size\"]"
      ],
      "metadata": {
        "id": "2T9Vba_oQtjg"
      },
      "execution_count": 26,
      "outputs": []
    },
    {
      "cell_type": "code",
      "source": [
        "dfBodyMassTest = df_test[df_test[\"measurementType\"] == \"body mass\"]"
      ],
      "metadata": {
        "id": "ESHthxw6g3-H"
      },
      "execution_count": 27,
      "outputs": []
    },
    {
      "cell_type": "code",
      "source": [
        "dfBrainSizeTest = df_test[df_test[\"measurementType\"] == \"brain size\"]"
      ],
      "metadata": {
        "id": "hZgmOQkyg99G"
      },
      "execution_count": 28,
      "outputs": []
    },
    {
      "cell_type": "code",
      "source": [
        "len(dfBrainSize) - len(dfBodyMass)"
      ],
      "metadata": {
        "id": "gcBqlMpWR1BM",
        "colab": {
          "base_uri": "https://localhost:8080/"
        },
        "outputId": "156fa9e1-b85e-4bd1-e0a3-5677db3487ef"
      },
      "execution_count": 30,
      "outputs": [
        {
          "output_type": "execute_result",
          "data": {
            "text/plain": [
              "0"
            ]
          },
          "metadata": {},
          "execution_count": 30
        }
      ]
    },
    {
      "cell_type": "code",
      "source": [
        "len(dfBrainSizeTest) - len(dfBodyMassTest)"
      ],
      "metadata": {
        "id": "iGVtR6WihDVP",
        "colab": {
          "base_uri": "https://localhost:8080/"
        },
        "outputId": "e22dabb7-9412-4aed-825c-1e023977dbe1"
      },
      "execution_count": 31,
      "outputs": [
        {
          "output_type": "execute_result",
          "data": {
            "text/plain": [
              "0"
            ]
          },
          "metadata": {},
          "execution_count": 31
        }
      ]
    },
    {
      "cell_type": "code",
      "source": [
        "#dfBrainSize.set_axis(['observationID', 'phylum', 'class', 'order', 'family', 'genus',\n",
        "#       'measurementType', 'BrainSize', 'measurementUnit'], axis=\"columns\", inplace=True)\n",
        "#dfBodyMass.set_axis(['observationID', 'phylum', 'class', 'order', 'family', 'genus',\n",
        "#       'measurementType', 'BodyMass', 'measurementUnit'], axis=\"columns\", inplace=True)\n",
        "dfBrainSize.set_axis(['observationID', 'phylum', 'class', 'order', 'family', 'genus',\n",
        "       'measurementType', 'BrainSize', 'measurementUnit'], axis=\"columns\", inplace=True)\n",
        "dfBodyMass.set_axis(['observationID', 'phylum', 'class', 'order', 'family', 'genus',\n",
        "       'measurementType', 'BodyMass', 'measurementUnit'], axis=\"columns\", inplace=True)"
      ],
      "metadata": {
        "id": "sNJgGnlPSMmk",
        "colab": {
          "base_uri": "https://localhost:8080/"
        },
        "outputId": "a6d3eb39-1579-41a4-c660-dc2dd647e8d0"
      },
      "execution_count": 32,
      "outputs": [
        {
          "output_type": "stream",
          "name": "stderr",
          "text": [
            "<ipython-input-32-a747b665836c>:5: FutureWarning: DataFrame.set_axis 'inplace' keyword is deprecated and will be removed in a future version. Use `obj = obj.set_axis(..., copy=False)` instead\n",
            "  dfBrainSize.set_axis(['observationID', 'phylum', 'class', 'order', 'family', 'genus',\n",
            "<ipython-input-32-a747b665836c>:7: FutureWarning: DataFrame.set_axis 'inplace' keyword is deprecated and will be removed in a future version. Use `obj = obj.set_axis(..., copy=False)` instead\n",
            "  dfBodyMass.set_axis(['observationID', 'phylum', 'class', 'order', 'family', 'genus',\n"
          ]
        }
      ]
    },
    {
      "cell_type": "code",
      "source": [
        "dfBrainSizeTest = dfBrainSizeTest.drop([\"ignore\"], axis = 1)\n",
        "dfBodyMassTest = dfBodyMassTest.drop([\"ignore\"], axis = 1)"
      ],
      "metadata": {
        "id": "cL8IqP8uh0PC"
      },
      "execution_count": 33,
      "outputs": []
    },
    {
      "cell_type": "code",
      "source": [
        "dfBrainSizeTest.set_axis(['observationID', 'phylum', 'class', 'order', 'family', 'genus',\n",
        "       'measurementType', 'BrainSize', 'measurementUnit'], axis=\"columns\", inplace=True)\n",
        "dfBodyMassTest.set_axis(['observationID', 'phylum', 'class', 'order', 'family', 'genus',\n",
        "       'measurementType', 'BodyMass', 'measurementUnit'], axis=\"columns\", inplace=True)"
      ],
      "metadata": {
        "id": "HAtymlvDhr0c",
        "colab": {
          "base_uri": "https://localhost:8080/"
        },
        "outputId": "15dbc251-072b-474b-953c-c532acec48c1"
      },
      "execution_count": 34,
      "outputs": [
        {
          "output_type": "stream",
          "name": "stderr",
          "text": [
            "<ipython-input-34-3e9469e03d72>:1: FutureWarning: DataFrame.set_axis 'inplace' keyword is deprecated and will be removed in a future version. Use `obj = obj.set_axis(..., copy=False)` instead\n",
            "  dfBrainSizeTest.set_axis(['observationID', 'phylum', 'class', 'order', 'family', 'genus',\n",
            "<ipython-input-34-3e9469e03d72>:3: FutureWarning: DataFrame.set_axis 'inplace' keyword is deprecated and will be removed in a future version. Use `obj = obj.set_axis(..., copy=False)` instead\n",
            "  dfBodyMassTest.set_axis(['observationID', 'phylum', 'class', 'order', 'family', 'genus',\n"
          ]
        }
      ]
    },
    {
      "cell_type": "code",
      "source": [
        "dfBrainSize = dfBrainSize.drop([\"measurementType\", \"measurementUnit\", \"observationID\"], axis = 1)\n",
        "dfBodyMass = dfBodyMass.drop([\"measurementType\", \"measurementUnit\", \"observationID\"], axis = 1)"
      ],
      "metadata": {
        "id": "p0Fbcf_xSdNi"
      },
      "execution_count": 35,
      "outputs": []
    },
    {
      "cell_type": "code",
      "source": [
        "dfBrainSizeTest = dfBrainSizeTest.drop([\"measurementType\", \"measurementUnit\", \"observationID\"], axis = 1)\n",
        "dfBodyMassTest = dfBodyMassTest.drop([\"measurementType\", \"measurementUnit\", \"observationID\"], axis = 1)"
      ],
      "metadata": {
        "id": "RVuwBQ6TiC33"
      },
      "execution_count": 36,
      "outputs": []
    },
    {
      "cell_type": "code",
      "source": [
        "y = dfBrainSize[\"BrainSize\"]\n",
        "x = dfBrainSize.drop(\"BrainSize\", axis = 1)"
      ],
      "metadata": {
        "id": "FE5sN5qKbxUs"
      },
      "execution_count": 37,
      "outputs": []
    },
    {
      "cell_type": "code",
      "source": [
        "len(x)"
      ],
      "metadata": {
        "id": "pRaNNreCr-y2",
        "colab": {
          "base_uri": "https://localhost:8080/"
        },
        "outputId": "d9355c30-9a2d-4143-86c3-a0b595dd90dd"
      },
      "execution_count": 38,
      "outputs": [
        {
          "output_type": "execute_result",
          "data": {
            "text/plain": [
              "557"
            ]
          },
          "metadata": {},
          "execution_count": 38
        }
      ]
    },
    {
      "cell_type": "code",
      "source": [
        "y_test = dfBrainSizeTest[\"BrainSize\"]\n",
        "x_test = dfBrainSizeTest.drop(\"BrainSize\", axis = 1)"
      ],
      "metadata": {
        "id": "am6A5xQxrRJn"
      },
      "execution_count": 39,
      "outputs": []
    },
    {
      "cell_type": "code",
      "source": [
        "dfBodyMass = dfBodyMass['BodyMass']"
      ],
      "metadata": {
        "id": "5vRRZByKUklS"
      },
      "execution_count": 40,
      "outputs": []
    },
    {
      "cell_type": "code",
      "source": [
        "dfBodyMassTest = dfBodyMassTest['BodyMass']"
      ],
      "metadata": {
        "id": "8vW-yqOfkgP-"
      },
      "execution_count": 41,
      "outputs": []
    },
    {
      "cell_type": "code",
      "source": [
        "import numpy as np\n",
        "x['bodyMass'] = np.array(dfBodyMass)"
      ],
      "metadata": {
        "id": "CXlJcxTUUo1_"
      },
      "execution_count": 42,
      "outputs": []
    },
    {
      "cell_type": "code",
      "source": [
        "x_test['bodyMass'] = (np.array(dfBodyMassTest) * 1000)"
      ],
      "metadata": {
        "id": "ccp9CLBkkVCz"
      },
      "execution_count": 43,
      "outputs": []
    },
    {
      "cell_type": "code",
      "source": [
        "gen = x_test['genus']"
      ],
      "metadata": {
        "colab": {
          "base_uri": "https://localhost:8080/"
        },
        "id": "YxZkBJO9Mml2",
        "outputId": "800cc9fb-166e-4669-af06-5e0c3f2d932d"
      },
      "execution_count": 45,
      "outputs": [
        {
          "output_type": "execute_result",
          "data": {
            "text/plain": [
              "41          Corvus\n",
              "151          Ursus\n",
              "153          Ursus\n",
              "155          Ursus\n",
              "158          Felis\n",
              "          ...     \n",
              "504         Rattus\n",
              "506         Rattus\n",
              "531    Tragelaphus\n",
              "533    Tragelaphus\n",
              "541         Ateles\n",
              "Name: genus, Length: 106, dtype: object"
            ]
          },
          "metadata": {},
          "execution_count": 45
        }
      ]
    },
    {
      "cell_type": "code",
      "source": [
        "from tensorflow.keras.layers import TextVectorization\n",
        "TextVectorizer = TextVectorization(\n",
        "    max_tokens=350,\n",
        "    output_mode='int',\n",
        "    output_sequence_length=5\n",
        ")"
      ],
      "metadata": {
        "id": "GBzG6u7yAh9l"
      },
      "execution_count": 46,
      "outputs": []
    },
    {
      "cell_type": "code",
      "source": [
        "def totaller(x):\n",
        "  bodyMass = x['bodyMass']\n",
        "  x['total'] = x['phylum'] + ' ' + x['class'] + ' ' + x['order'] + ' ' + x['family'] + ' ' + x['genus']\n",
        "  total = x['total'].tolist()\n",
        "  TextVectorizer.adapt(total)\n",
        "  somelist = []\n",
        "  for i, word in enumerate(total):\n",
        "    somelist.append(TextVectorizer(word))\n",
        "  som = pd.DataFrame(somelist)\n",
        "  som['bodyMass'] = np.array(bodyMass)\n",
        "  som = np.asarray(som).astype(np.float32)\n",
        "  return som"
      ],
      "metadata": {
        "id": "6wgqeW_5aEbC"
      },
      "execution_count": 47,
      "outputs": []
    },
    {
      "cell_type": "code",
      "source": [
        "import numpy as np\n",
        "x = totaller(x)"
      ],
      "metadata": {
        "id": "teaeDmX8cKVs"
      },
      "execution_count": 48,
      "outputs": []
    },
    {
      "cell_type": "code",
      "source": [
        "x"
      ],
      "metadata": {
        "colab": {
          "base_uri": "https://localhost:8080/"
        },
        "id": "x588uIQowg7x",
        "outputId": "1f036c07-2203-4453-9b5d-6062db37b91f"
      },
      "execution_count": 49,
      "outputs": [
        {
          "output_type": "execute_result",
          "data": {
            "text/plain": [
              "array([[8.0000e+00, 5.0000e+00, 6.0000e+00, 7.0000e+00, 9.0000e+00,\n",
              "        2.6059e-02],\n",
              "       [8.0000e+00, 5.0000e+00, 6.0000e+00, 7.0000e+00, 9.0000e+00,\n",
              "        1.5219e-02],\n",
              "       [8.0000e+00, 5.0000e+00, 6.0000e+00, 7.0000e+00, 9.0000e+00,\n",
              "        2.3594e-02],\n",
              "       ...,\n",
              "       [2.0000e+00, 3.0000e+00, 4.0000e+00, 1.6000e+01, 1.8000e+01,\n",
              "        7.4300e+04],\n",
              "       [2.0000e+00, 3.0000e+00, 4.0000e+00, 1.6000e+01, 1.8000e+01,\n",
              "        5.7000e+04],\n",
              "       [2.0000e+00, 3.0000e+00, 4.0000e+00, 1.6000e+01, 1.8000e+01,\n",
              "        6.8000e+04]], dtype=float32)"
            ]
          },
          "metadata": {},
          "execution_count": 49
        }
      ]
    },
    {
      "cell_type": "markdown",
      "source": [
        "# Model training"
      ],
      "metadata": {
        "id": "VDZzxootKppF"
      }
    },
    {
      "cell_type": "code",
      "source": [
        "import tensorflow as tf\n",
        "\n",
        "model_1 = tf.keras.Sequential([\n",
        "    tf.keras.layers.Dense(200),\n",
        "    tf.keras.layers.Dense(200),\n",
        "    tf.keras.layers.Dense(200),\n",
        "    tf.keras.layers.Dense(200),\n",
        "    tf.keras.layers.Dense(200),\n",
        "    tf.keras.layers.Dense(200),\n",
        "    tf.keras.layers.Dense(1)\n",
        "])\n",
        "\n",
        "model_1.compile(\n",
        "    optimizer = tf.keras.optimizers.Adam(lr = 0.04),\n",
        "    loss = tf.keras.losses.mae,\n",
        "    metrics = [\"mae\"]\n",
        ")"
      ],
      "metadata": {
        "id": "Nf1veV5Pc5CP",
        "colab": {
          "base_uri": "https://localhost:8080/"
        },
        "outputId": "0967c7ec-9f3d-4a79-aafd-2468b9f43ba1"
      },
      "execution_count": 50,
      "outputs": [
        {
          "output_type": "stream",
          "name": "stderr",
          "text": [
            "WARNING:absl:`lr` is deprecated in Keras optimizer, please use `learning_rate` or use the legacy optimizer, e.g.,tf.keras.optimizers.legacy.Adam.\n"
          ]
        }
      ]
    },
    {
      "cell_type": "code",
      "source": [
        "model_1.fit(x, y, epochs = 90, verbose = 0)"
      ],
      "metadata": {
        "id": "o4KylfBVeG8-",
        "colab": {
          "base_uri": "https://localhost:8080/"
        },
        "outputId": "ba9d2007-6151-4249-c672-0443bda9ac02"
      },
      "execution_count": 51,
      "outputs": [
        {
          "output_type": "execute_result",
          "data": {
            "text/plain": [
              "<keras.callbacks.History at 0x7e34ec61bbe0>"
            ]
          },
          "metadata": {},
          "execution_count": 51
        }
      ]
    },
    {
      "cell_type": "code",
      "source": [
        "x_test = totaller(x_test)"
      ],
      "metadata": {
        "id": "ZKse9pv_kzbj"
      },
      "execution_count": 52,
      "outputs": []
    },
    {
      "cell_type": "code",
      "source": [
        "model_1_score = model_1.evaluate(x_test, y_test)"
      ],
      "metadata": {
        "id": "3LEkl78apnqS",
        "colab": {
          "base_uri": "https://localhost:8080/"
        },
        "outputId": "af8334c2-2379-4d99-95e0-9139c26ced77"
      },
      "execution_count": 53,
      "outputs": [
        {
          "output_type": "stream",
          "name": "stdout",
          "text": [
            "4/4 [==============================] - 0s 4ms/step - loss: 226.4987 - mae: 226.4987\n"
          ]
        }
      ]
    },
    {
      "cell_type": "code",
      "source": [
        "preds = model_1.predict(x_test)"
      ],
      "metadata": {
        "id": "eVu9FUg31kWe",
        "colab": {
          "base_uri": "https://localhost:8080/"
        },
        "outputId": "38aa7603-3ef7-4cc0-98fc-f3e9328ee138"
      },
      "execution_count": 54,
      "outputs": [
        {
          "output_type": "stream",
          "name": "stdout",
          "text": [
            "4/4 [==============================] - 0s 3ms/step\n"
          ]
        }
      ]
    },
    {
      "cell_type": "code",
      "source": [
        "def predic(x):\n",
        "  print(preds[x], (np.array(y_test))[x])"
      ],
      "metadata": {
        "id": "WaMI4pa_1tt3"
      },
      "execution_count": 55,
      "outputs": []
    },
    {
      "cell_type": "code",
      "source": [
        "def scores(g, preds):\n",
        "  sub = []\n",
        "  l = 0\n",
        "  b = 0\n",
        "  for i, num in enumerate(preds):\n",
        "    if (num < 0):\n",
        "      b = b + 1\n",
        "  sub = (np.array(y_test)) - tf.squeeze(preds)\n",
        "  sub = np.array(sub)/np.array(y_test)\n",
        "  sub = sub * 100\n",
        "  for i, num in enumerate(sub):\n",
        "    sub = np.array(sub)\n",
        "    if (num < 0):\n",
        "      sub[i] = 0\n",
        "  np.mean(sub)\n",
        "  subb = np.array((np.array(y_test)) - tf.squeeze(preds))\n",
        "  subb = subb.round().astype(int)\n",
        "  print(\"percentage error: \"+ str(sub[g]))\n",
        "  print(\"error: \" + str(int(subb[g])))\n",
        "  print(\"negative values: \" + str(b))"
      ],
      "metadata": {
        "id": "jje-awHh2B4S"
      },
      "execution_count": 56,
      "outputs": []
    },
    {
      "cell_type": "code",
      "source": [
        "predic(4)\n",
        "scores(4, preds)"
      ],
      "metadata": {
        "colab": {
          "base_uri": "https://localhost:8080/"
        },
        "id": "044smEmIJoRX",
        "outputId": "36a4ca12-f237-4932-e428-9a047c78f96d"
      },
      "execution_count": 57,
      "outputs": [
        {
          "output_type": "stream",
          "name": "stdout",
          "text": [
            "[-1.4266375] 18.0\n",
            "percentage error: 107.92576471964519\n",
            "error: 19\n",
            "negative values: 83\n"
          ]
        }
      ]
    },
    {
      "cell_type": "code",
      "source": [
        "import tensorflow as tf\n",
        "\n",
        "model_2 = tf.keras.Sequential([\n",
        "    tf.keras.layers.Dense(100),\n",
        "    tf.keras.layers.Dense(100),\n",
        "    tf.keras.layers.Dense(100),\n",
        "    tf.keras.layers.Dense(100),\n",
        "    tf.keras.layers.Dense(100),\n",
        "    tf.keras.layers.Dense(100),\n",
        "    tf.keras.layers.Dense(1)\n",
        "])\n",
        "\n",
        "model_2.compile(\n",
        "    optimizer = tf.keras.optimizers.Adam(lr = 0.04),\n",
        "    loss = tf.keras.losses.mae,\n",
        "    metrics = [\"mae\"]\n",
        ")"
      ],
      "metadata": {
        "id": "KwgaSE9dODFt",
        "colab": {
          "base_uri": "https://localhost:8080/"
        },
        "outputId": "dfa1853f-0716-4cff-e425-a1951aa55132"
      },
      "execution_count": 58,
      "outputs": [
        {
          "output_type": "stream",
          "name": "stderr",
          "text": [
            "WARNING:absl:`lr` is deprecated in Keras optimizer, please use `learning_rate` or use the legacy optimizer, e.g.,tf.keras.optimizers.legacy.Adam.\n"
          ]
        }
      ]
    },
    {
      "cell_type": "code",
      "source": [
        "model_2.fit(x, y, epochs = 100, verbose = 0)\n",
        "model_2_score = model_2.evaluate(x_test, y_test)\n",
        "model_2_preds = model_2.predict(x_test)"
      ],
      "metadata": {
        "id": "Vojm5hBOEIxT",
        "colab": {
          "base_uri": "https://localhost:8080/"
        },
        "outputId": "1bf5293f-55ca-44b0-b824-4ecf0dc10ad1"
      },
      "execution_count": 59,
      "outputs": [
        {
          "output_type": "stream",
          "name": "stdout",
          "text": [
            "4/4 [==============================] - 0s 4ms/step - loss: 164.2446 - mae: 164.2446\n",
            "4/4 [==============================] - 0s 3ms/step\n"
          ]
        }
      ]
    },
    {
      "cell_type": "code",
      "source": [
        "predic(4)\n",
        "scores(4, model_2_preds)"
      ],
      "metadata": {
        "colab": {
          "base_uri": "https://localhost:8080/"
        },
        "id": "EwBhwHhkXoGz",
        "outputId": "b7b97f03-db35-4507-869d-9015259f166b"
      },
      "execution_count": 60,
      "outputs": [
        {
          "output_type": "stream",
          "name": "stdout",
          "text": [
            "[-1.4266375] 18.0\n",
            "percentage error: 40.090783437093094\n",
            "error: 7\n",
            "negative values: 0\n"
          ]
        }
      ]
    },
    {
      "cell_type": "code",
      "source": [
        "import tensorflow as tf\n",
        "\n",
        "model_3 = tf.keras.Sequential([\n",
        "    tf.keras.layers.Dense(100),\n",
        "    tf.keras.layers.Dense(100),\n",
        "    tf.keras.layers.Dense(100),\n",
        "    tf.keras.layers.Dense(100),\n",
        "    tf.keras.layers.Dense(100),\n",
        "    tf.keras.layers.Dense(100),\n",
        "    tf.keras.layers.Dense(1)\n",
        "])\n",
        "\n",
        "model_3.compile(\n",
        "    optimizer = tf.keras.optimizers.Adam(lr = 0.04),\n",
        "    loss = tf.keras.losses.mae,\n",
        "    metrics = [\"mae\"]\n",
        ")"
      ],
      "metadata": {
        "id": "iCK8UhZnOgwf",
        "colab": {
          "base_uri": "https://localhost:8080/"
        },
        "outputId": "d66b387e-359e-47ad-9bb0-4a0d3326feb4"
      },
      "execution_count": 61,
      "outputs": [
        {
          "output_type": "stream",
          "name": "stderr",
          "text": [
            "WARNING:absl:`lr` is deprecated in Keras optimizer, please use `learning_rate` or use the legacy optimizer, e.g.,tf.keras.optimizers.legacy.Adam.\n"
          ]
        }
      ]
    },
    {
      "cell_type": "code",
      "source": [
        "model_3.fit(x, y, epochs = 500, verbose = 0)\n",
        "model_3_score = model_3.evaluate(x_test, y_test)"
      ],
      "metadata": {
        "id": "sVUuK_4mOjVr",
        "colab": {
          "base_uri": "https://localhost:8080/"
        },
        "outputId": "6170be8c-8165-48e9-a8c9-40fb0fb5ee94"
      },
      "execution_count": 62,
      "outputs": [
        {
          "output_type": "stream",
          "name": "stdout",
          "text": [
            "4/4 [==============================] - 0s 4ms/step - loss: 177.4005 - mae: 177.4005\n"
          ]
        }
      ]
    },
    {
      "cell_type": "code",
      "source": [
        "preds_3 = model_3.predict(x_test)"
      ],
      "metadata": {
        "colab": {
          "base_uri": "https://localhost:8080/"
        },
        "id": "b_bFtKrDg1r6",
        "outputId": "fa57e049-98d6-41db-e33e-67bfe89932a4"
      },
      "execution_count": 63,
      "outputs": [
        {
          "output_type": "stream",
          "name": "stdout",
          "text": [
            "4/4 [==============================] - 0s 3ms/step\n"
          ]
        }
      ]
    },
    {
      "cell_type": "code",
      "source": [
        "from sklearn.metrics import r2_score\n",
        "score = r2_score(y_test, preds_3)"
      ],
      "metadata": {
        "id": "cxeg7tMlkMEB"
      },
      "execution_count": 64,
      "outputs": []
    },
    {
      "cell_type": "code",
      "source": [
        "score"
      ],
      "metadata": {
        "colab": {
          "base_uri": "https://localhost:8080/"
        },
        "id": "kAbYyWU0kNZj",
        "outputId": "a3a54c73-6617-4ec2-9b75-e8bf843684cf"
      },
      "execution_count": 65,
      "outputs": [
        {
          "output_type": "execute_result",
          "data": {
            "text/plain": [
              "-0.18887475527471875"
            ]
          },
          "metadata": {},
          "execution_count": 65
        }
      ]
    },
    {
      "cell_type": "code",
      "source": [
        "predic(8)\n",
        "scores(8, preds_3)"
      ],
      "metadata": {
        "colab": {
          "base_uri": "https://localhost:8080/"
        },
        "id": "YMlshTGxg7SK",
        "outputId": "3ea15041-d338-4914-be77-4fb807c2df25"
      },
      "execution_count": 66,
      "outputs": [
        {
          "output_type": "stream",
          "name": "stdout",
          "text": [
            "[-1.2249364] 15.89\n",
            "percentage error: 15.544591271104565\n",
            "error: 2\n",
            "negative values: 3\n"
          ]
        }
      ]
    },
    {
      "cell_type": "code",
      "source": [
        "import tensorflow as tf\n",
        "\n",
        "model_4 = tf.keras.Sequential([\n",
        "    tf.keras.layers.Dense(200),\n",
        "    tf.keras.layers.Dense(100),\n",
        "    tf.keras.layers.Dense(50),\n",
        "    tf.keras.layers.Dense(10),\n",
        "    tf.keras.layers.Dense(1)\n",
        "])\n",
        "\n",
        "model_4.compile(\n",
        "    optimizer = tf.keras.optimizers.Adam(lr = 0.04),\n",
        "    loss = tf.keras.losses.mae,\n",
        "    metrics = [\"mae\"]\n",
        ")"
      ],
      "metadata": {
        "id": "f-e7Yz0YQCva",
        "colab": {
          "base_uri": "https://localhost:8080/"
        },
        "outputId": "70474dc4-6adb-4804-c7fe-3409809f797b"
      },
      "execution_count": 67,
      "outputs": [
        {
          "output_type": "stream",
          "name": "stderr",
          "text": [
            "WARNING:absl:`lr` is deprecated in Keras optimizer, please use `learning_rate` or use the legacy optimizer, e.g.,tf.keras.optimizers.legacy.Adam.\n"
          ]
        }
      ]
    },
    {
      "cell_type": "code",
      "source": [
        "model_4.fit(x, y, epochs = 500, verbose = 0)\n",
        "model_4_score = model_4.evaluate(x_test, y_test)"
      ],
      "metadata": {
        "id": "3B1rVILYQHIp",
        "colab": {
          "base_uri": "https://localhost:8080/"
        },
        "outputId": "12be8f30-503a-456d-e5ec-4ca56a4811e1"
      },
      "execution_count": 68,
      "outputs": [
        {
          "output_type": "stream",
          "name": "stdout",
          "text": [
            "4/4 [==============================] - 0s 4ms/step - loss: 226.1985 - mae: 226.1985\n"
          ]
        }
      ]
    },
    {
      "cell_type": "code",
      "source": [
        "preds_4 = model_4.predict(x_test)"
      ],
      "metadata": {
        "colab": {
          "base_uri": "https://localhost:8080/"
        },
        "id": "En4NULr9F879",
        "outputId": "7e3ad6c0-f672-4903-8826-9be34f54fe07"
      },
      "execution_count": 69,
      "outputs": [
        {
          "output_type": "stream",
          "name": "stdout",
          "text": [
            "4/4 [==============================] - 0s 3ms/step\n"
          ]
        }
      ]
    },
    {
      "cell_type": "code",
      "source": [
        "from sklearn.metrics import r2_score\n",
        "score = r2_score(y_test, preds_4)"
      ],
      "metadata": {
        "id": "GzKr9j22iB_p"
      },
      "execution_count": 70,
      "outputs": []
    },
    {
      "cell_type": "code",
      "source": [
        "score\n",
        "print(\"The accuracy of our model is {}%\".format(round(score, 2) *100))"
      ],
      "metadata": {
        "colab": {
          "base_uri": "https://localhost:8080/"
        },
        "id": "dgfZChW1i5V6",
        "outputId": "f670ba80-3bbb-4b10-c614-c1978870c443"
      },
      "execution_count": 71,
      "outputs": [
        {
          "output_type": "stream",
          "name": "stdout",
          "text": [
            "The accuracy of our model is -135.0%\n"
          ]
        }
      ]
    },
    {
      "cell_type": "code",
      "source": [
        "len(preds_4)"
      ],
      "metadata": {
        "colab": {
          "base_uri": "https://localhost:8080/"
        },
        "id": "Os34cH-rhg9u",
        "outputId": "9b1a0e31-ea67-4bba-e7d9-093139bde485"
      },
      "execution_count": 72,
      "outputs": [
        {
          "output_type": "execute_result",
          "data": {
            "text/plain": [
              "106"
            ]
          },
          "metadata": {},
          "execution_count": 72
        }
      ]
    },
    {
      "cell_type": "code",
      "source": [
        "g = 5\n",
        "predic(g)\n",
        "scores(g, preds_4)\n",
        "gen.iloc[g]"
      ],
      "metadata": {
        "colab": {
          "base_uri": "https://localhost:8080/",
          "height": 104
        },
        "id": "4Ws3X6EaGCYF",
        "outputId": "87dea57b-1461-4fc3-9083-02aa67f0d4bc"
      },
      "execution_count": 73,
      "outputs": [
        {
          "output_type": "stream",
          "name": "stdout",
          "text": [
            "[-3.6059022] 23.46\n",
            "percentage error: 0.0\n",
            "error: -17\n",
            "negative values: 3\n"
          ]
        },
        {
          "output_type": "execute_result",
          "data": {
            "text/plain": [
              "'Felis'"
            ],
            "application/vnd.google.colaboratory.intrinsic+json": {
              "type": "string"
            }
          },
          "metadata": {},
          "execution_count": 73
        }
      ]
    },
    {
      "cell_type": "code",
      "source": [
        "from sklearn.metrics import mean_squared_error\n",
        "import numpy as np\n",
        "score = np.sqrt(mean_squared_error(y_test, preds_4))\n",
        "print(\"The Mean Absolute Error of our Model is {}\".format(round(score, 2)))"
      ],
      "metadata": {
        "colab": {
          "base_uri": "https://localhost:8080/"
        },
        "id": "B6zY6QisjXzj",
        "outputId": "709f2719-23b8-435f-cb80-94a5d69cfd93"
      },
      "execution_count": 74,
      "outputs": [
        {
          "output_type": "stream",
          "name": "stdout",
          "text": [
            "The Mean Absolute Error of our Model is 589.66\n"
          ]
        }
      ]
    },
    {
      "cell_type": "code",
      "source": [
        "def prediction(predstr, bw, model):\n",
        "  predstr = TextVectorizer(predstr)\n",
        "  predstr = np.asarray(predstr).astype(np.float32)\n",
        "  predstr = np.append(predstr, bw)\n",
        "  predstr = tf.constant(predstr)\n",
        "  prediction = model.predict(tf.expand_dims(predstr, axis = 0))\n",
        "  print(\"Brain weight: \" + str((tf.squeeze(tf.squeeze(prediction, axis = 1))).numpy()))"
      ],
      "metadata": {
        "id": "duZbQ33B-aMT"
      },
      "execution_count": 75,
      "outputs": []
    },
    {
      "cell_type": "code",
      "source": [
        "import tensorflow as tf\n",
        "\n",
        "model_5 = tf.keras.Sequential([\n",
        "    tf.keras.layers.Dense(200),\n",
        "    tf.keras.layers.Dense(100),\n",
        "    tf.keras.layers.Dense(50),\n",
        "    tf.keras.layers.Dense(10),\n",
        "    tf.keras.layers.Dense(1)\n",
        "])\n",
        "\n",
        "model_5.compile(\n",
        "    optimizer = tf.keras.optimizers.Adam(lr = 0.04),\n",
        "    loss = tf.keras.losses.mae,\n",
        "    metrics = [\"mae\"]\n",
        ")"
      ],
      "metadata": {
        "colab": {
          "base_uri": "https://localhost:8080/"
        },
        "id": "ljSPqPvqQ7Yl",
        "outputId": "68caac5c-0f92-4ed8-f676-53f285eb1caf"
      },
      "execution_count": 76,
      "outputs": [
        {
          "output_type": "stream",
          "name": "stderr",
          "text": [
            "WARNING:absl:`lr` is deprecated in Keras optimizer, please use `learning_rate` or use the legacy optimizer, e.g.,tf.keras.optimizers.legacy.Adam.\n"
          ]
        }
      ]
    },
    {
      "cell_type": "code",
      "source": [
        "model_5.fit(x, y, epochs = 1000, verbose = 0)\n",
        "model_5_score = model_4.evaluate(x_test, y_test)"
      ],
      "metadata": {
        "colab": {
          "base_uri": "https://localhost:8080/"
        },
        "id": "L7o2ep1zQ9PI",
        "outputId": "12e1c086-75c7-4a69-84cb-e4a8297fd3b4"
      },
      "execution_count": 77,
      "outputs": [
        {
          "output_type": "stream",
          "name": "stdout",
          "text": [
            "4/4 [==============================] - 0s 4ms/step - loss: 226.1985 - mae: 226.1985\n"
          ]
        }
      ]
    },
    {
      "cell_type": "code",
      "source": [
        "import tensorflow as tf\n",
        "\n",
        "model_6 = tf.keras.Sequential([\n",
        "    tf.keras.layers.Dense(200),\n",
        "    tf.keras.layers.Dense(200),\n",
        "    tf.keras.layers.Dense(200),\n",
        "    tf.keras.layers.Dense(200),\n",
        "    tf.keras.layers.Dense(1)\n",
        "])\n",
        "\n",
        "model_6.compile(\n",
        "    optimizer = tf.keras.optimizers.Adam(lr = 0.04),\n",
        "    loss = tf.keras.losses.mae,\n",
        "    metrics = [\"mae\"]\n",
        ")"
      ],
      "metadata": {
        "colab": {
          "base_uri": "https://localhost:8080/"
        },
        "id": "isepbFYJThvc",
        "outputId": "94839a30-f595-4caa-d4cb-bbc2af21901f"
      },
      "execution_count": 78,
      "outputs": [
        {
          "output_type": "stream",
          "name": "stderr",
          "text": [
            "WARNING:absl:`lr` is deprecated in Keras optimizer, please use `learning_rate` or use the legacy optimizer, e.g.,tf.keras.optimizers.legacy.Adam.\n"
          ]
        }
      ]
    },
    {
      "cell_type": "code",
      "source": [
        "model_6.fit(x, y, epochs = 1000, verbose = 0)\n",
        "model_6_score = model_4.evaluate(x_test, y_test)"
      ],
      "metadata": {
        "colab": {
          "base_uri": "https://localhost:8080/"
        },
        "id": "bYsglvuTTlXt",
        "outputId": "07ddfb61-9aca-4e3e-9c06-c774cd090fe0"
      },
      "execution_count": 79,
      "outputs": [
        {
          "output_type": "stream",
          "name": "stdout",
          "text": [
            "4/4 [==============================] - 0s 4ms/step - loss: 226.1985 - mae: 226.1985\n"
          ]
        }
      ]
    },
    {
      "cell_type": "markdown",
      "source": [
        "# Predictions\n"
      ],
      "metadata": {
        "id": "A3t1V-paK2Zf"
      }
    },
    {
      "cell_type": "code",
      "source": [
        "gen.unique()"
      ],
      "metadata": {
        "colab": {
          "base_uri": "https://localhost:8080/"
        },
        "id": "1FpDKjKfZtkK",
        "outputId": "dd4472e7-06bc-44c2-b8f5-3d56eeafa905"
      },
      "execution_count": 85,
      "outputs": [
        {
          "output_type": "execute_result",
          "data": {
            "text/plain": [
              "array(['Corvus', 'Ursus', 'Felis', 'Genetta', 'Canis', 'Vulpes',\n",
              "       'Panthera', 'Mephitis', 'Mustela', 'Bradypus', 'Choloepus',\n",
              "       'Scalopus', 'Blarina', 'Didelphis', 'Papio', 'Cercopithecus',\n",
              "       'Alouatta', 'Lagothrix', 'Lemur', 'Ateles', 'Cebus', 'Saimiri',\n",
              "       'Pan', 'Homo', 'Lacerta', 'Coluber', 'Thamnophis', 'Agkistrodon',\n",
              "       'Cavia', 'Lepus', 'Rattus', 'Tragelaphus'], dtype=object)"
            ]
          },
          "metadata": {},
          "execution_count": 85
        }
      ]
    },
    {
      "cell_type": "markdown",
      "source": [
        "Crow (*Chordata Aves Passeriformes Corvidae Corvus*)"
      ],
      "metadata": {
        "id": "OS9Iwedp3TLF"
      }
    },
    {
      "cell_type": "code",
      "source": [
        "prediction(\"Chordata Aves Passeriformes Corvidae Corvus\", 474, model_3)"
      ],
      "metadata": {
        "colab": {
          "base_uri": "https://localhost:8080/"
        },
        "id": "P2q0iHkj45nU",
        "outputId": "095502df-f59e-4dac-f9d2-ed39e3bb2847"
      },
      "execution_count": 87,
      "outputs": [
        {
          "output_type": "stream",
          "name": "stdout",
          "text": [
            "1/1 [==============================] - 0s 19ms/step\n",
            "Brain weight: 4.7223306\n"
          ]
        }
      ]
    },
    {
      "cell_type": "markdown",
      "source": [
        "Grizzly Bear"
      ],
      "metadata": {
        "id": "X4uNj4Jq1cSI"
      }
    },
    {
      "cell_type": "code",
      "source": [
        "prediction(\"Chordata Mammalia\tCarnivora\tUrsidae\tUrsus\", 150000, model_3)"
      ],
      "metadata": {
        "colab": {
          "base_uri": "https://localhost:8080/"
        },
        "id": "iG_KZ2Jx1wOf",
        "outputId": "a6bc4557-43ad-45bc-93c6-b3b5d687633e"
      },
      "execution_count": 98,
      "outputs": [
        {
          "output_type": "stream",
          "name": "stdout",
          "text": [
            "1/1 [==============================] - 0s 53ms/step\n",
            "Brain weight: 1253.7451\n"
          ]
        }
      ]
    },
    {
      "cell_type": "markdown",
      "source": [
        "Pretty terrible prediction, but expected given the meagre sample size\n"
      ],
      "metadata": {
        "id": "lLwDlbCY29vP"
      }
    },
    {
      "cell_type": "markdown",
      "source": [
        "Cat"
      ],
      "metadata": {
        "id": "GVt0Dnh82TsY"
      }
    },
    {
      "cell_type": "code",
      "source": [
        "prediction(\"Chordata Mammalia Carnivora Felidae Felis\", 3300, model_3)"
      ],
      "metadata": {
        "colab": {
          "base_uri": "https://localhost:8080/"
        },
        "id": "awaxdNA05BK3",
        "outputId": "ced40142-e0ef-44da-f9c8-ec627601a857"
      },
      "execution_count": 99,
      "outputs": [
        {
          "output_type": "stream",
          "name": "stdout",
          "text": [
            "1/1 [==============================] - 0s 21ms/step\n",
            "Brain weight: 30.274767\n"
          ]
        }
      ]
    },
    {
      "cell_type": "markdown",
      "source": [
        "Genets:"
      ],
      "metadata": {
        "id": "w-ufeWRM6_Kd"
      }
    },
    {
      "cell_type": "code",
      "source": [
        "prediction(\"Chordata Mammalia\tCarnivora\tViverridae Genetta\", 1410, model_3) #actual-weight: 17.5g"
      ],
      "metadata": {
        "colab": {
          "base_uri": "https://localhost:8080/"
        },
        "id": "3uJ_nRha5LKr",
        "outputId": "01a33789-f6e8-43f6-b5d1-8fe30d7e1c86"
      },
      "execution_count": 137,
      "outputs": [
        {
          "output_type": "stream",
          "name": "stdout",
          "text": [
            "1/1 [==============================] - 0s 19ms/step\n",
            "Brain weight: 14.320757\n"
          ]
        }
      ]
    },
    {
      "cell_type": "markdown",
      "source": [
        "Dog"
      ],
      "metadata": {
        "id": "4d2pNAoB7DRY"
      }
    },
    {
      "cell_type": "markdown",
      "source": [
        "Brachycephalic dogs:"
      ],
      "metadata": {
        "id": "6e71F0rV8EYA"
      }
    },
    {
      "cell_type": "code",
      "source": [
        "prediction(\"Chordata Mammalia Carnivora Canidae Canis\", 4700, model_3)\n",
        "prediction(\"Chordata Mammalia Carnivora Canidae Canis\", 26100, model_3)"
      ],
      "metadata": {
        "colab": {
          "base_uri": "https://localhost:8080/"
        },
        "id": "NOvvPmt87CKn",
        "outputId": "d624858b-2701-4d71-e8c9-2c6fae28ba9b"
      },
      "execution_count": 104,
      "outputs": [
        {
          "output_type": "stream",
          "name": "stdout",
          "text": [
            "1/1 [==============================] - 0s 35ms/step\n",
            "Brain weight: 42.030006\n",
            "1/1 [==============================] - 0s 28ms/step\n",
            "Brain weight: 220.52013\n"
          ]
        }
      ]
    },
    {
      "cell_type": "markdown",
      "source": [
        "Dolichocephalic dogs:"
      ],
      "metadata": {
        "id": "NjKTXKJD8UVL"
      }
    },
    {
      "cell_type": "code",
      "source": [
        "prediction(\"Chordata Mammalia Carnivora Canidae Canis\", 29390, model_3)\n",
        "prediction(\"Chordata Mammalia Carnivora Canidae Canis\", 18700, model_3)"
      ],
      "metadata": {
        "colab": {
          "base_uri": "https://localhost:8080/"
        },
        "id": "zWt4bu4e8Rda",
        "outputId": "5669f2e0-2653-49cc-8590-c6ce4ef0b8ea"
      },
      "execution_count": 106,
      "outputs": [
        {
          "output_type": "stream",
          "name": "stdout",
          "text": [
            "1/1 [==============================] - 0s 19ms/step\n",
            "Brain weight: 247.9609\n",
            "1/1 [==============================] - 0s 26ms/step\n",
            "Brain weight: 158.79926\n"
          ]
        }
      ]
    },
    {
      "cell_type": "markdown",
      "source": [
        " Mesaticephalic dogs:"
      ],
      "metadata": {
        "id": "XyL3rl8W876x"
      }
    },
    {
      "cell_type": "code",
      "source": [
        "prediction(\"Chordata Mammalia Carnivora Canidae Canis\", 7300, model_3)\n",
        "prediction(\"Chordata Mammalia Carnivora Canidae Canis\", 31500, model_3)"
      ],
      "metadata": {
        "colab": {
          "base_uri": "https://localhost:8080/"
        },
        "id": "H_DjmlfF9YCB",
        "outputId": "b4e11a4d-5b57-4a07-c05b-2dd92afcfdd1"
      },
      "execution_count": 108,
      "outputs": [
        {
          "output_type": "stream",
          "name": "stdout",
          "text": [
            "1/1 [==============================] - 0s 40ms/step\n",
            "Brain weight: 63.71572\n",
            "1/1 [==============================] - 0s 32ms/step\n",
            "Brain weight: 265.5597\n"
          ]
        }
      ]
    },
    {
      "cell_type": "markdown",
      "source": [
        "Eastern American red fox"
      ],
      "metadata": {
        "id": "O5FETHAz_nbU"
      }
    },
    {
      "cell_type": "code",
      "source": [
        "prediction(\"Chordata Mammalia\tCarnivora\tCanidae\tVulpes\", 3385, model_3) #actual-weight: 53.3g"
      ],
      "metadata": {
        "colab": {
          "base_uri": "https://localhost:8080/"
        },
        "id": "3kiv-yFY-naJ",
        "outputId": "cda5c919-5c9a-49a3-be67-93ade5d7ebbb"
      },
      "execution_count": 136,
      "outputs": [
        {
          "output_type": "stream",
          "name": "stdout",
          "text": [
            "1/1 [==============================] - 0s 102ms/step\n",
            "Brain weight: 30.972227\n"
          ]
        }
      ]
    },
    {
      "cell_type": "markdown",
      "source": [
        "Arctic Fox"
      ],
      "metadata": {
        "id": "HDUoe6XuABH_"
      }
    },
    {
      "cell_type": "code",
      "source": [
        "prediction(\"Chordata Mammalia\tCarnivora\tCanidae\tVulpes\", 3380, model_3) #actual-weight: 44.5g"
      ],
      "metadata": {
        "colab": {
          "base_uri": "https://localhost:8080/"
        },
        "id": "XbbwxgmvACar",
        "outputId": "4fe73575-cda9-40ee-f19d-f5c52be63210"
      },
      "execution_count": 138,
      "outputs": [
        {
          "output_type": "stream",
          "name": "stdout",
          "text": [
            "1/1 [==============================] - 0s 26ms/step\n",
            "Brain weight: 30.930521\n"
          ]
        }
      ]
    },
    {
      "cell_type": "markdown",
      "source": [
        "Jaguar"
      ],
      "metadata": {
        "id": "FJwnfJyT_qL_"
      }
    },
    {
      "cell_type": "code",
      "source": [
        "prediction(\"Chordata Mammalia\tCarnivora\tFelidae\tPanthera\", 34470, model_3)"
      ],
      "metadata": {
        "colab": {
          "base_uri": "https://localhost:8080/"
        },
        "id": "YfI-0q7YAxwH",
        "outputId": "75c875a0-c4bc-4001-ef51-b6d78ec50064"
      },
      "execution_count": 140,
      "outputs": [
        {
          "output_type": "stream",
          "name": "stdout",
          "text": [
            "1/1 [==============================] - 0s 28ms/step\n",
            "Brain weight: 290.24155\n"
          ]
        }
      ]
    }
  ]
}